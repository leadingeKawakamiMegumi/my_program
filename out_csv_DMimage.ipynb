{
 "cells": [
  {
   "cell_type": "code",
   "execution_count": null,
   "metadata": {},
   "outputs": [],
   "source": [
    "import matplotlib.pyplot as plt\n",
    "import matplotlib\n",
    "%matplotlib inline\n",
    "\n",
    "import hyperspy.api as hs #1.6.5"
   ]
  },
  {
   "cell_type": "code",
   "execution_count": null,
   "metadata": {},
   "outputs": [],
   "source": [
    "path = r\"C:/Users/Megumi/Documents/test\"+\"\\\\\"\n",
    "f_name1 =  \"A.dm4\"\n",
    "f_name2 =  \"B.dm4\"\n",
    "y = np.arange(0, 18, 0.2)"
   ]
  },
  {
   "cell_type": "code",
   "execution_count": null,
   "metadata": {},
   "outputs": [],
   "source": [
    "import numpy as np\n",
    "import pandas as pd\n",
    "import hyperspy.api as hs #1.6.5\n",
    "\n",
    "def out_list(path,f_name1,f_name2):\n",
    "    list = []\n",
    "\n",
    "    s = hs.load(path + f_name1)\n",
    "\n",
    "    s2 = hs.load(path + f_name2)\n",
    "    \n",
    "    x = np.array(s)\n",
    "    x_N = np.sum(x,axis=1)\n",
    "    x = np.array(s2)\n",
    "    x_O = np.sum(x,axis=1)\n",
    "\n",
    "    list.append(x_N)\n",
    "    list.append(x_O)\n",
    "    df = pd.DataFrame(list)\n",
    "    return (df.T)"
   ]
  },
  {
   "cell_type": "code",
   "execution_count": null,
   "metadata": {},
   "outputs": [],
   "source": [
    "df = out_list(path,f_name1,f_name2)\n",
    "df.index = y\n",
    "df = df.rename(columns = {0:\"vd_N\",1:\"vd_O\"})\n",
    "df.to_csv(\"test.csv\")"
   ]
  },
  {
   "cell_type": "code",
   "execution_count": null,
   "metadata": {},
   "outputs": [],
   "source": [
    "plt.plot(y,df.iloc[:,0])\n",
    "plt.plot(y,df.iloc[:,1])"
   ]
  }
 ],
 "metadata": {
  "kernelspec": {
   "display_name": "Python 3",
   "language": "python",
   "name": "python3"
  },
  "language_info": {
   "codemirror_mode": {
    "name": "ipython",
    "version": 3
   },
   "file_extension": ".py",
   "mimetype": "text/x-python",
   "name": "python",
   "nbconvert_exporter": "python",
   "pygments_lexer": "ipython3",
   "version": "3.7.7"
  }
 },
 "nbformat": 4,
 "nbformat_minor": 4
}
